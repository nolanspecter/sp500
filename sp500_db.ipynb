{
 "cells": [
  {
   "cell_type": "code",
   "execution_count": 1,
   "id": "03233311",
   "metadata": {},
   "outputs": [],
   "source": [
    "import sqlite3\n",
    "import yfinance as yf\n",
    "import pandas as pd"
   ]
  },
  {
   "cell_type": "code",
   "execution_count": 2,
   "id": "79ce1eeb",
   "metadata": {},
   "outputs": [],
   "source": [
    "# Set up database\n",
    "conn = sqlite3.connect('sp500_stocks.db') # Create or connect to the db file\n",
    "cursor = conn.cursor() # Create a cursor to excute command"
   ]
  },
  {
   "cell_type": "code",
   "execution_count": 3,
   "id": "03224ee7",
   "metadata": {},
   "outputs": [
    {
     "data": {
      "text/plain": [
       "<sqlite3.Cursor at 0x23501ba3e40>"
      ]
     },
     "execution_count": 3,
     "metadata": {},
     "output_type": "execute_result"
    }
   ],
   "source": [
    "# Create neccessary tables\n",
    "# Ticker info table\n",
    "statement = \"\"\"\n",
    "    CREATE TABLE IF NOT EXISTS companies (\n",
    "        ticker TEXT PRIMARY KEY,\n",
    "        name TEXT NOT NULL,\n",
    "        sector INTEGER,\n",
    "        industry INTEGER,\n",
    "        description TEXT,\n",
    "        FOREIGN KEY (sector) REFERENCES sectors(sector_id),\n",
    "        FOREIGN KEY (industry) REFERENCES industries(industry_id)\n",
    "    )\n",
    "\"\"\"\n",
    "# If you want to override the table, use DROP TABLE first, then CREATE TABLE\n",
    "cursor.execute(statement)\n"
   ]
  },
  {
   "cell_type": "code",
   "execution_count": 4,
   "id": "0bb85133",
   "metadata": {},
   "outputs": [
    {
     "data": {
      "text/plain": [
       "<sqlite3.Cursor at 0x23501ba3e40>"
      ]
     },
     "execution_count": 4,
     "metadata": {},
     "output_type": "execute_result"
    }
   ],
   "source": [
    "# Price info table\n",
    "statement = \"\"\"\n",
    "    CREATE TABLE IF NOT EXISTS price (\n",
    "    ticker TEXT,\n",
    "    date DATE,\n",
    "    open REAL,\n",
    "    high REAL,\n",
    "    low REAL,\n",
    "    close REAL,\n",
    "    adj_close REAL,\n",
    "    volume INTEGER,\n",
    "    PRIMARY KEY (ticker, date),\n",
    "    FOREIGN KEY (ticker) REFERENCES companies(ticker)\n",
    "\n",
    ")\n",
    "\"\"\"\n",
    "cursor.execute(statement)"
   ]
  },
  {
   "cell_type": "code",
   "execution_count": 5,
   "id": "4436884c",
   "metadata": {},
   "outputs": [
    {
     "data": {
      "text/plain": [
       "<sqlite3.Cursor at 0x23501ba3e40>"
      ]
     },
     "execution_count": 5,
     "metadata": {},
     "output_type": "execute_result"
    }
   ],
   "source": [
    "# Sector info table\n",
    "statement = \"\"\"\n",
    "    CREATE TABLE IF NOT EXISTS sectors (\n",
    "        sector_id INTEGER PRIMARY KEY,\n",
    "        sector TEXT,\n",
    "        description TEXT\n",
    "    )\n",
    "\"\"\"\n",
    "cursor.execute(statement)"
   ]
  },
  {
   "cell_type": "code",
   "execution_count": 6,
   "id": "19da3635",
   "metadata": {},
   "outputs": [
    {
     "data": {
      "text/plain": [
       "<sqlite3.Cursor at 0x23501ba3e40>"
      ]
     },
     "execution_count": 6,
     "metadata": {},
     "output_type": "execute_result"
    }
   ],
   "source": [
    "# Industry info table\n",
    "statement = \"\"\"\n",
    "    CREATE TABLE IF NOT EXISTS industries (\n",
    "        industry_id INTEGER PRIMARY KEY,\n",
    "        sector INTEGER,\n",
    "        industry TEXT,\n",
    "        FOREIGN KEY (sector) REFERENCES sectors(sector_id)\n",
    "    )\"\"\"\n",
    "cursor.execute(statement)"
   ]
  },
  {
   "cell_type": "code",
   "execution_count": 7,
   "id": "2c10308c",
   "metadata": {},
   "outputs": [
    {
     "data": {
      "text/plain": [
       "<sqlite3.Cursor at 0x23501ba3e40>"
      ]
     },
     "execution_count": 7,
     "metadata": {},
     "output_type": "execute_result"
    }
   ],
   "source": [
    "#Populate sectors and industries\n",
    "sector_data = [\n",
    "    (1, 'Energy', 'The energy sector covers companies that do business in the oil and natural gas industry.'),\n",
    "    (2, 'Materials', 'The materials sector includes companies that provide various goods for use in manufacturing and other applications.'),\n",
    "    (3, 'Industrials', 'The industrials sector encompasses a wide range of different businesses that generally involve the use of heavy equipment.'),\n",
    "    (4, 'Utilities', 'The utilities sector encompasses every different type of utility company.'),\n",
    "    (5, 'Health Care', 'The healthcare sector has two primary components: Pharmaceuticals, treatments based on biotechnology and healthcare equipment and services.'),\n",
    "    (6, 'Financials', 'The financials sector includes businesses that are primarily related to handling money. Banks are a key industry group within the sector.'),\n",
    "    (7, 'Consumer Discretionary', 'The consumer discretionary sector covers goods and services for which consumer demand depends upon consumer financial status.'),\n",
    "    (8, 'Consumer Staples', 'The consumer staples sector includes goods and services that consumers need, regardless of their current financial condition or the current economic climate.'),\n",
    "    (9, 'Information Technology', 'The information technology sector covers companies involved in the different categories of technological innovation.'),\n",
    "    (10, 'Communication Services', 'The communication services sector is among the newest of the GICS sectors and includes a couple of major areas that used to be part of other sectors, such as telocommunication, media and entertainment.'),\n",
    "    (11, 'Real Estate', 'The real estate sector is the newest GICS sector, having formerly been part of the financial sector. It generally includes two different types of investments related to real estate: Developement and REITs')\n",
    "]\n",
    "\n",
    "insert_sectors = \"\"\"\n",
    "INSERT INTO sectors (sector_id, sector, description) \n",
    "VALUES (?, ?, ?)\"\"\"\n",
    "\n",
    "cursor.executemany(insert_sectors, sector_data)"
   ]
  },
  {
   "cell_type": "code",
   "execution_count": 8,
   "id": "b3cb3430",
   "metadata": {},
   "outputs": [
    {
     "data": {
      "text/html": [
       "<div>\n",
       "<style scoped>\n",
       "    .dataframe tbody tr th:only-of-type {\n",
       "        vertical-align: middle;\n",
       "    }\n",
       "\n",
       "    .dataframe tbody tr th {\n",
       "        vertical-align: top;\n",
       "    }\n",
       "\n",
       "    .dataframe thead th {\n",
       "        text-align: right;\n",
       "    }\n",
       "</style>\n",
       "<table border=\"1\" class=\"dataframe\">\n",
       "  <thead>\n",
       "    <tr style=\"text-align: right;\">\n",
       "      <th></th>\n",
       "      <th>sector_id</th>\n",
       "      <th>sector</th>\n",
       "      <th>description</th>\n",
       "    </tr>\n",
       "  </thead>\n",
       "  <tbody>\n",
       "    <tr>\n",
       "      <th>0</th>\n",
       "      <td>1</td>\n",
       "      <td>Energy</td>\n",
       "      <td>The energy sector covers companies that do bus...</td>\n",
       "    </tr>\n",
       "    <tr>\n",
       "      <th>1</th>\n",
       "      <td>2</td>\n",
       "      <td>Materials</td>\n",
       "      <td>The materials sector includes companies that p...</td>\n",
       "    </tr>\n",
       "    <tr>\n",
       "      <th>2</th>\n",
       "      <td>3</td>\n",
       "      <td>Industrials</td>\n",
       "      <td>The industrials sector encompasses a wide rang...</td>\n",
       "    </tr>\n",
       "    <tr>\n",
       "      <th>3</th>\n",
       "      <td>4</td>\n",
       "      <td>Utilities</td>\n",
       "      <td>The utilities sector encompasses every differe...</td>\n",
       "    </tr>\n",
       "    <tr>\n",
       "      <th>4</th>\n",
       "      <td>5</td>\n",
       "      <td>Health Care</td>\n",
       "      <td>The healthcare sector has two primary componen...</td>\n",
       "    </tr>\n",
       "    <tr>\n",
       "      <th>5</th>\n",
       "      <td>6</td>\n",
       "      <td>Financials</td>\n",
       "      <td>The financials sector includes businesses that...</td>\n",
       "    </tr>\n",
       "    <tr>\n",
       "      <th>6</th>\n",
       "      <td>7</td>\n",
       "      <td>Consumer Discretionary</td>\n",
       "      <td>The consumer discretionary sector covers goods...</td>\n",
       "    </tr>\n",
       "    <tr>\n",
       "      <th>7</th>\n",
       "      <td>8</td>\n",
       "      <td>Consumer Staples</td>\n",
       "      <td>The consumer staples sector includes goods and...</td>\n",
       "    </tr>\n",
       "    <tr>\n",
       "      <th>8</th>\n",
       "      <td>9</td>\n",
       "      <td>Information Technology</td>\n",
       "      <td>The information technology sector covers compa...</td>\n",
       "    </tr>\n",
       "    <tr>\n",
       "      <th>9</th>\n",
       "      <td>10</td>\n",
       "      <td>Communication Services</td>\n",
       "      <td>The communication services sector is among the...</td>\n",
       "    </tr>\n",
       "    <tr>\n",
       "      <th>10</th>\n",
       "      <td>11</td>\n",
       "      <td>Real Estate</td>\n",
       "      <td>The real estate sector is the newest GICS sect...</td>\n",
       "    </tr>\n",
       "  </tbody>\n",
       "</table>\n",
       "</div>"
      ],
      "text/plain": [
       "    sector_id                  sector  \\\n",
       "0           1                  Energy   \n",
       "1           2               Materials   \n",
       "2           3             Industrials   \n",
       "3           4               Utilities   \n",
       "4           5             Health Care   \n",
       "5           6              Financials   \n",
       "6           7  Consumer Discretionary   \n",
       "7           8        Consumer Staples   \n",
       "8           9  Information Technology   \n",
       "9          10  Communication Services   \n",
       "10         11             Real Estate   \n",
       "\n",
       "                                          description  \n",
       "0   The energy sector covers companies that do bus...  \n",
       "1   The materials sector includes companies that p...  \n",
       "2   The industrials sector encompasses a wide rang...  \n",
       "3   The utilities sector encompasses every differe...  \n",
       "4   The healthcare sector has two primary componen...  \n",
       "5   The financials sector includes businesses that...  \n",
       "6   The consumer discretionary sector covers goods...  \n",
       "7   The consumer staples sector includes goods and...  \n",
       "8   The information technology sector covers compa...  \n",
       "9   The communication services sector is among the...  \n",
       "10  The real estate sector is the newest GICS sect...  "
      ]
     },
     "execution_count": 8,
     "metadata": {},
     "output_type": "execute_result"
    }
   ],
   "source": [
    "cursor.execute(\"SELECT * FROM sectors\")\n",
    "sectors = cursor.fetchall() \n",
    "sectors_df = pd.DataFrame(sectors, columns=['sector_id', 'sector', 'description'])\n",
    "sectors_df"
   ]
  },
  {
   "cell_type": "code",
   "execution_count": 10,
   "id": "712ae198",
   "metadata": {},
   "outputs": [
    {
     "data": {
      "text/plain": [
       "<sqlite3.Cursor at 0x23501ba3e40>"
      ]
     },
     "execution_count": 10,
     "metadata": {},
     "output_type": "execute_result"
    }
   ],
   "source": [
    "# Populate industries\n",
    "industry_data = [\n",
    "    (1, 101, 'Energy Equipment & Services'),\n",
    "    (1, 102, 'Oil, Gas & Consumable Fuels'),\n",
    "    (2, 201, 'Chemicals'),\n",
    "    (2, 202, 'Construction Materials'),\n",
    "    (2, 203, 'Containers & Packaging'),\n",
    "    (2, 204, 'Metals & Mining'),\n",
    "    (2, 205, 'Paper & Forest Products'),\n",
    "    (3, 301, 'Aerospace & Defense'),\n",
    "    (3, 302, 'Building Products'),\n",
    "    (3, 303, 'Construction & Engineering'),\n",
    "    (3, 304, 'Electrical Equipment'),\n",
    "    (3, 305, 'Industrial Conglomerates'),\n",
    "    (3, 306, 'Machinery'),\n",
    "    (3, 307, 'Trading Companies & Distributors'),\n",
    "    (3, 308, 'Commercial Services & Supplies'),\n",
    "    (3, 309, 'Professional Services'),\n",
    "    (3, 310, 'Air Freight & Logistics'),\n",
    "    (3, 311, 'Passenger Airlines'),\n",
    "    (3, 312, 'Marine Transportation'),\n",
    "    (3, 313, 'Ground Transportation'),\n",
    "    (3, 314, 'Transportation Infrastructure'),\n",
    "    (4, 401, 'Electric Utilities'),\n",
    "    (4, 402, 'Gas Utilities'),\n",
    "    (4, 403, 'Multi-Utilities'),\n",
    "    (4, 404, 'Water Utilities'),\n",
    "    (4, 405, 'Independent Power and Renewable Electricity Producers'),\n",
    "    (5, 501, 'Health Care Equipment & Supplies'),\n",
    "    (5, 502, 'Health Care Providers & Services'),\n",
    "    (5, 503, 'Health Care Technology'),\n",
    "    (5, 504, 'Biotechnology'),\n",
    "    (5, 505, 'Pharmaceuticals'),\n",
    "    (5, 506, 'Life Sciences Tools & Services'),\n",
    "    (6, 601, 'Banks'),\n",
    "    (6, 602, 'Financial Services'),\n",
    "    (6, 603, 'Consumer Finance'),\n",
    "    (6, 604, 'Capital Markets'),\n",
    "    (6, 605, 'Mortgage Real Estate Investment Trusts (REITs)'),\n",
    "    (6, 606, 'Insurance'),\n",
    "    (7, 701, 'Automobiles Components'),\n",
    "    (7, 702, 'Automobiles'),\n",
    "    (7, 703, 'Household Durables'),\n",
    "    (7, 704, 'Leisure Products'),\n",
    "    (7, 705, 'Textiles, Apparel & Luxury Goods'),\n",
    "    (7, 706, 'Hotels, Restaurants & Leisure'),\n",
    "    (7, 707, 'Diversified Consumer Services'),\n",
    "    (8, 801, 'Consumer Staples Distribution & Retail'),\n",
    "    (8, 802, 'Beverages'),\n",
    "    (8, 803, 'Food Products'),\n",
    "    (8, 804, 'Tobacco'),\n",
    "    (8, 805, 'Household Products'),\n",
    "    (8, 806, 'Personal Products'),\n",
    "    (9, 901, 'IT Services'),\n",
    "    (9, 902, 'Software'),\n",
    "    (9, 903, 'Communications Equipment'),\n",
    "    (9, 904, 'Technology Hardware, Storage & Peripherals'),\n",
    "    (9, 905, 'Electronic Equipment, Instruments & Components'),\n",
    "    (9, 906, 'Semiconductors & Semiconductor Equipment'),\n",
    "    (10, 1001,'Diversified Telecommunication Services'),\n",
    "    (10, 1002,'Wireless Telecommunication Services'),\n",
    "    (10, 1003,'Media'),\n",
    "    (11, 1004,'Entertainment'),\n",
    "    (10, 1005,'Interactive Media & Services'),\n",
    "    (11, 1101,'Diversified REITs'),\n",
    "    (11, 1102,'Industrial REITs'),\n",
    "    (11, 1103,'Hotel & Resort REITs'),\n",
    "    (11, 1104,'Office REITs'),\n",
    "    (11, 1105,'Health Care REITs'),\n",
    "    (11, 1106,'Residential REITs'),\n",
    "    (11, 1107,'Retail REITs'),\n",
    "    (11, 1108,'Specialized REITs'),\n",
    "    (11, 1109,'Real Estate Management & Development')\n",
    "]\n",
    "\n",
    "insert_industry = \"\"\"\n",
    "INSERT INTO industries (sector, industry_id, industry) \n",
    "VALUES (?, ?, ?)\"\"\"\n",
    "cursor.executemany(insert_industry, industry_data)"
   ]
  },
  {
   "cell_type": "code",
   "execution_count": 11,
   "id": "1bef30ba",
   "metadata": {},
   "outputs": [
    {
     "data": {
      "text/html": [
       "<div>\n",
       "<style scoped>\n",
       "    .dataframe tbody tr th:only-of-type {\n",
       "        vertical-align: middle;\n",
       "    }\n",
       "\n",
       "    .dataframe tbody tr th {\n",
       "        vertical-align: top;\n",
       "    }\n",
       "\n",
       "    .dataframe thead th {\n",
       "        text-align: right;\n",
       "    }\n",
       "</style>\n",
       "<table border=\"1\" class=\"dataframe\">\n",
       "  <thead>\n",
       "    <tr style=\"text-align: right;\">\n",
       "      <th></th>\n",
       "      <th>industry_id</th>\n",
       "      <th>sector_id</th>\n",
       "      <th>industry</th>\n",
       "    </tr>\n",
       "  </thead>\n",
       "  <tbody>\n",
       "    <tr>\n",
       "      <th>0</th>\n",
       "      <td>101</td>\n",
       "      <td>1</td>\n",
       "      <td>Energy Equipment &amp; Services</td>\n",
       "    </tr>\n",
       "    <tr>\n",
       "      <th>1</th>\n",
       "      <td>102</td>\n",
       "      <td>1</td>\n",
       "      <td>Oil, Gas &amp; Consumable Fuels</td>\n",
       "    </tr>\n",
       "    <tr>\n",
       "      <th>2</th>\n",
       "      <td>201</td>\n",
       "      <td>2</td>\n",
       "      <td>Chemicals</td>\n",
       "    </tr>\n",
       "    <tr>\n",
       "      <th>3</th>\n",
       "      <td>202</td>\n",
       "      <td>2</td>\n",
       "      <td>Construction Materials</td>\n",
       "    </tr>\n",
       "    <tr>\n",
       "      <th>4</th>\n",
       "      <td>203</td>\n",
       "      <td>2</td>\n",
       "      <td>Containers &amp; Packaging</td>\n",
       "    </tr>\n",
       "    <tr>\n",
       "      <th>...</th>\n",
       "      <td>...</td>\n",
       "      <td>...</td>\n",
       "      <td>...</td>\n",
       "    </tr>\n",
       "    <tr>\n",
       "      <th>66</th>\n",
       "      <td>1105</td>\n",
       "      <td>11</td>\n",
       "      <td>Health Care REITs</td>\n",
       "    </tr>\n",
       "    <tr>\n",
       "      <th>67</th>\n",
       "      <td>1106</td>\n",
       "      <td>11</td>\n",
       "      <td>Residential REITs</td>\n",
       "    </tr>\n",
       "    <tr>\n",
       "      <th>68</th>\n",
       "      <td>1107</td>\n",
       "      <td>11</td>\n",
       "      <td>Retail REITs</td>\n",
       "    </tr>\n",
       "    <tr>\n",
       "      <th>69</th>\n",
       "      <td>1108</td>\n",
       "      <td>11</td>\n",
       "      <td>Specialized REITs</td>\n",
       "    </tr>\n",
       "    <tr>\n",
       "      <th>70</th>\n",
       "      <td>1109</td>\n",
       "      <td>11</td>\n",
       "      <td>Real Estate Management &amp; Development</td>\n",
       "    </tr>\n",
       "  </tbody>\n",
       "</table>\n",
       "<p>71 rows × 3 columns</p>\n",
       "</div>"
      ],
      "text/plain": [
       "    industry_id  sector_id                              industry\n",
       "0           101          1           Energy Equipment & Services\n",
       "1           102          1           Oil, Gas & Consumable Fuels\n",
       "2           201          2                             Chemicals\n",
       "3           202          2                Construction Materials\n",
       "4           203          2                Containers & Packaging\n",
       "..          ...        ...                                   ...\n",
       "66         1105         11                     Health Care REITs\n",
       "67         1106         11                     Residential REITs\n",
       "68         1107         11                          Retail REITs\n",
       "69         1108         11                     Specialized REITs\n",
       "70         1109         11  Real Estate Management & Development\n",
       "\n",
       "[71 rows x 3 columns]"
      ]
     },
     "execution_count": 11,
     "metadata": {},
     "output_type": "execute_result"
    }
   ],
   "source": [
    "cursor.execute(\"SELECT * FROM industries\")\n",
    "industries = cursor.fetchall()\n",
    "industries_df = pd.DataFrame(industries, columns=['industry_id', 'sector_id', 'industry'])\n",
    "industries_df"
   ]
  },
  {
   "cell_type": "code",
   "execution_count": null,
   "id": "e27bac8d",
   "metadata": {},
   "outputs": [],
   "source": [
    "# Commit changes and close the connection\n",
    "conn.commit()\n",
    "conn.close()"
   ]
  },
  {
   "cell_type": "code",
   "execution_count": null,
   "id": "5190fd96",
   "metadata": {},
   "outputs": [],
   "source": []
  }
 ],
 "metadata": {
  "kernelspec": {
   "display_name": "Python 3",
   "language": "python",
   "name": "python3"
  },
  "language_info": {
   "codemirror_mode": {
    "name": "ipython",
    "version": 3
   },
   "file_extension": ".py",
   "mimetype": "text/x-python",
   "name": "python",
   "nbconvert_exporter": "python",
   "pygments_lexer": "ipython3",
   "version": "3.10.11"
  }
 },
 "nbformat": 4,
 "nbformat_minor": 5
}
