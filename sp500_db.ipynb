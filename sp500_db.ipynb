{
 "cells": [
  {
   "cell_type": "code",
   "execution_count": 1,
   "id": "03233311",
   "metadata": {},
   "outputs": [],
   "source": [
    "import sqlite3"
   ]
  },
  {
   "cell_type": "code",
   "execution_count": null,
   "id": "79ce1eeb",
   "metadata": {},
   "outputs": [],
   "source": [
    "# Set up database\n",
    "conn = sqlite3.connect('sp500_stocks.db') # Create or connect to the db file\n",
    "cursor = conn.cursor() # Create a cursor to excute command"
   ]
  },
  {
   "cell_type": "code",
   "execution_count": null,
   "id": "03224ee7",
   "metadata": {},
   "outputs": [
    {
     "data": {
      "text/plain": [
       "<sqlite3.Cursor at 0x226796488c0>"
      ]
     },
     "execution_count": 3,
     "metadata": {},
     "output_type": "execute_result"
    }
   ],
   "source": [
    "# Create neccessary tables\n",
    "# Ticker info table\n",
    "statement = \"\"\"\n",
    "    CREATE TABLE IF NOT EXISTS companies (\n",
    "        ticker TEXT PRIMARY KEY,\n",
    "        name TEXT NOT NULL,\n",
    "        sector TEXT,\n",
    "        industry TEXT,\n",
    "        description TEXT,\n",
    "        ipo_year INTEGER\n",
    "    )\n",
    "\"\"\"\n",
    "cursor.execute(statement)\n"
   ]
  },
  {
   "cell_type": "code",
   "execution_count": null,
   "id": "0bb85133",
   "metadata": {},
   "outputs": [
    {
     "data": {
      "text/plain": [
       "<sqlite3.Cursor at 0x226796488c0>"
      ]
     },
     "execution_count": 5,
     "metadata": {},
     "output_type": "execute_result"
    }
   ],
   "source": [
    "# Price info table\n",
    "statement = \"\"\"\n",
    "    CREATE TABLE IF NOT EXISTS price (\n",
    "    ticker TEXT,\n",
    "    date DATE,\n",
    "    open REAL,\n",
    "    high REAL,\n",
    "    low REAL,\n",
    "    close REAL,\n",
    "    adj_close REAL,\n",
    "    volume INTEGER,\n",
    "    PRIMARY KEY (ticker, date),\n",
    "    FOREIGN KEY (ticker) REFERENCES companies(ticker)\n",
    ")\n",
    "\"\"\"\n",
    "cursor.execute(statement)"
   ]
  },
  {
   "cell_type": "code",
   "execution_count": 17,
   "id": "214cae0c",
   "metadata": {},
   "outputs": [
    {
     "data": {
      "text/plain": [
       "<sqlite3.Cursor at 0x226796488c0>"
      ]
     },
     "execution_count": 17,
     "metadata": {},
     "output_type": "execute_result"
    }
   ],
   "source": [
    "# Testing table insert and query works\n",
    "insert_statment_1 = \"\"\"\n",
    "    INSERT INTO companies(ticker, name, sector, industry, description, ipo_year)\n",
    "    VALUES ('AAPL', 'Apple Inc.', 'Techonology', 'Consumer Electronics', 'Technology powerhouse', 1980)\"\"\"\n",
    "insert_statement_2 = \"\"\"\n",
    "    INSERT INTO price(ticker, date, open, high, low, close, adj_close, volume)\n",
    "    VALUES ('AAPL', '2025-07-31', 208.49, 209.84, 207.16, 207.57, 207.57, 78744400)\"\"\"\n",
    "cursor.execute(insert_statment_1)\n",
    "cursor.execute(insert_statement_2)"
   ]
  },
  {
   "cell_type": "code",
   "execution_count": 18,
   "id": "e71ea88e",
   "metadata": {},
   "outputs": [
    {
     "name": "stdout",
     "output_type": "stream",
     "text": [
      "[('AAPL', 'Apple Inc.', 'Techonology', 'Consumer Electronics', 'Technology powerhouse', 1980)]\n"
     ]
    }
   ],
   "source": [
    "cursor.execute(\"SELECT * FROM companies\")\n",
    "rows = cursor.fetchall()\n",
    "print(rows)"
   ]
  },
  {
   "cell_type": "code",
   "execution_count": 19,
   "id": "c43e27d2",
   "metadata": {},
   "outputs": [
    {
     "name": "stdout",
     "output_type": "stream",
     "text": [
      "[('AAPL', '2025-07-31', 208.49, 209.84, 207.16, 207.57, 207.57, 78744400)]\n"
     ]
    }
   ],
   "source": [
    "cursor.execute(\"SELECT * FROM price\")\n",
    "rows = cursor.fetchall()\n",
    "print(rows)"
   ]
  },
  {
   "cell_type": "code",
   "execution_count": null,
   "id": "6c1a4ad8",
   "metadata": {},
   "outputs": [],
   "source": []
  }
 ],
 "metadata": {
  "kernelspec": {
   "display_name": "Python 3",
   "language": "python",
   "name": "python3"
  },
  "language_info": {
   "codemirror_mode": {
    "name": "ipython",
    "version": 3
   },
   "file_extension": ".py",
   "mimetype": "text/x-python",
   "name": "python",
   "nbconvert_exporter": "python",
   "pygments_lexer": "ipython3",
   "version": "3.10.11"
  }
 },
 "nbformat": 4,
 "nbformat_minor": 5
}
