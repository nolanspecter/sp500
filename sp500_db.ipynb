{
 "cells": [
  {
   "cell_type": "code",
   "execution_count": 1,
   "id": "03233311",
   "metadata": {},
   "outputs": [],
   "source": [
    "import sqlite3"
   ]
  },
  {
   "cell_type": "code",
   "execution_count": 2,
   "id": "79ce1eeb",
   "metadata": {},
   "outputs": [],
   "source": [
    "# Set up database\n",
    "conn = sqlite3.connect('sp500_stocks.db') # Create or connect to the db file\n",
    "cursor = conn.cursor() # Create a cursor to excute command"
   ]
  },
  {
   "cell_type": "code",
   "execution_count": 3,
   "id": "03224ee7",
   "metadata": {},
   "outputs": [
    {
     "data": {
      "text/plain": [
       "<sqlite3.Cursor at 0x2af7c703d40>"
      ]
     },
     "execution_count": 3,
     "metadata": {},
     "output_type": "execute_result"
    }
   ],
   "source": [
    "# Create neccessary tables\n",
    "# Ticker info table\n",
    "statement = \"\"\"\n",
    "    CREATE TABLE IF NOT EXISTS companies (\n",
    "        ticker TEXT PRIMARY KEY,\n",
    "        name TEXT NOT NULL,\n",
    "        sector INTEGER,\n",
    "        industry INTEGER,\n",
    "        description TEXT,\n",
    "        ipo_year INTEGER\n",
    "    )\n",
    "\"\"\"\n",
    "cursor.execute(statement)\n"
   ]
  },
  {
   "cell_type": "code",
   "execution_count": 4,
   "id": "0bb85133",
   "metadata": {},
   "outputs": [
    {
     "data": {
      "text/plain": [
       "<sqlite3.Cursor at 0x2af7c703d40>"
      ]
     },
     "execution_count": 4,
     "metadata": {},
     "output_type": "execute_result"
    }
   ],
   "source": [
    "# Price info table\n",
    "statement = \"\"\"\n",
    "    CREATE TABLE IF NOT EXISTS price (\n",
    "    ticker TEXT,\n",
    "    date DATE,\n",
    "    open REAL,\n",
    "    high REAL,\n",
    "    low REAL,\n",
    "    close REAL,\n",
    "    adj_close REAL,\n",
    "    volume INTEGER,\n",
    "    PRIMARY KEY (ticker, date),\n",
    "    FOREIGN KEY (ticker) REFERENCES companies(ticker)\n",
    "    FOREIGN KEY (sector) REFERENCES sectors(sector_id),\n",
    "    FOREIGN KEY (industry) REFERENCES industries(industry_id)\n",
    ")\n",
    "\"\"\"\n",
    "cursor.execute(statement)"
   ]
  },
  {
   "cell_type": "code",
   "execution_count": 6,
   "id": "4436884c",
   "metadata": {},
   "outputs": [
    {
     "data": {
      "text/plain": [
       "<sqlite3.Cursor at 0x2af7c703d40>"
      ]
     },
     "execution_count": 6,
     "metadata": {},
     "output_type": "execute_result"
    }
   ],
   "source": [
    "# Sector info table\n",
    "statement = \"\"\"\n",
    "    CREATE TABLE IF NOT EXISTS sectors (\n",
    "        sector_id INTEGER PRIMARY KEY AUTOINCREMENT,\n",
    "        sector TEXT,\n",
    "        description TEXT\n",
    "    )\n",
    "\"\"\"\n",
    "cursor.execute(statement)"
   ]
  },
  {
   "cell_type": "code",
   "execution_count": 8,
   "id": "19da3635",
   "metadata": {},
   "outputs": [
    {
     "data": {
      "text/plain": [
       "<sqlite3.Cursor at 0x2af7c703d40>"
      ]
     },
     "execution_count": 8,
     "metadata": {},
     "output_type": "execute_result"
    }
   ],
   "source": [
    "# Industry info table\n",
    "statement = \"\"\"\n",
    "    CREATE TABLE IF NOT EXISTS industries (\n",
    "        industry_id INTEGER PRIMARY KEY AUTOINCREMENT,\n",
    "        sector INTEGER,\n",
    "        industry TEXT,\n",
    "        description TEXT,\n",
    "        FOREIGN KEY (sector) REFERENCES sectors(sector_id)\n",
    "    )\"\"\"\n",
    "cursor.execute(statement)"
   ]
  },
  {
   "cell_type": "code",
   "execution_count": null,
   "id": "edf80c95",
   "metadata": {},
   "outputs": [
    {
     "name": "stdout",
     "output_type": "stream",
     "text": [
      "Table: companies\n",
      "(0, 'ticker', 'TEXT', 0, None, 1)\n",
      "(1, 'name', 'TEXT', 1, None, 0)\n",
      "(2, 'sector', 'TEXT', 0, None, 0)\n",
      "(3, 'industry', 'TEXT', 0, None, 0)\n",
      "(4, 'description', 'TEXT', 0, None, 0)\n",
      "(5, 'ipo_year', 'INTEGER', 0, None, 0)\n",
      "\n",
      "Table: price\n",
      "(0, 'ticker', 'TEXT', 0, None, 1)\n",
      "(1, 'date', 'DATETIME', 0, None, 2)\n",
      "(2, 'open', 'REAL', 0, None, 0)\n",
      "(3, 'high', 'REAL', 0, None, 0)\n",
      "(4, 'low', 'REAL', 0, None, 0)\n",
      "(5, 'close', 'REAL', 0, None, 0)\n",
      "(6, 'adj_close', 'REAL', 0, None, 0)\n",
      "(7, 'volume', 'INTEGER', 0, None, 0)\n",
      "\n",
      "Table: sectors\n",
      "(0, 'sector_id', 'INTEGER', 0, None, 1)\n",
      "(1, 'sector', 'TEXT', 0, None, 0)\n",
      "(2, 'description', 'TEXT', 0, None, 0)\n",
      "\n",
      "Table: sqlite_sequence\n",
      "(0, 'name', '', 0, None, 0)\n",
      "(1, 'seq', '', 0, None, 0)\n",
      "\n",
      "Table: industries\n",
      "(0, 'industry_id', 'INTEGER', 0, None, 1)\n",
      "(1, 'sector', 'INTEGER', 0, None, 0)\n",
      "(2, 'industry', 'TEXT', 0, None, 0)\n",
      "(3, 'description', 'TEXT', 0, None, 0)\n",
      "\n"
     ]
    }
   ],
   "source": [
    "# Extract and print the schema of sp500_stocks.db\n",
    "import sqlite3\n",
    "conn = sqlite3.connect('sp500_stocks.db')\n",
    "cursor = conn.cursor()\n",
    "cursor.execute(\"SELECT name FROM sqlite_master WHERE type='table';\")\n",
    "tables = cursor.fetchall()\n",
    "for table in tables:\n",
    "    print(f\"Table: {table[0]}\")\n",
    "    cursor.execute(f\"PRAGMA table_info({table[0]})\")\n",
    "    columns = cursor.fetchall()\n",
    "    for col in columns:\n",
    "        print(col)\n",
    "    print()\n",
    "conn.close()"
   ]
  },
  {
   "cell_type": "code",
   "execution_count": null,
   "id": "e27bac8d",
   "metadata": {},
   "outputs": [],
   "source": []
  }
 ],
 "metadata": {
  "kernelspec": {
   "display_name": "Python 3",
   "language": "python",
   "name": "python3"
  },
  "language_info": {
   "codemirror_mode": {
    "name": "ipython",
    "version": 3
   },
   "file_extension": ".py",
   "mimetype": "text/x-python",
   "name": "python",
   "nbconvert_exporter": "python",
   "pygments_lexer": "ipython3",
   "version": "3.10.11"
  }
 },
 "nbformat": 4,
 "nbformat_minor": 5
}
