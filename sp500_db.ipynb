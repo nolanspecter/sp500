{
 "cells": [
  {
   "cell_type": "code",
   "execution_count": 44,
   "id": "03233311",
   "metadata": {},
   "outputs": [],
   "source": [
    "import sqlite3\n",
    "import yfinance as yf\n",
    "import pandas as pd"
   ]
  },
  {
   "cell_type": "code",
   "execution_count": 54,
   "id": "79ce1eeb",
   "metadata": {},
   "outputs": [],
   "source": [
    "# Set up database\n",
    "conn = sqlite3.connect('sp500_stocks.db') # Create or connect to the db file\n",
    "cursor = conn.cursor() # Create a cursor to excute command"
   ]
  },
  {
   "cell_type": "code",
   "execution_count": 46,
   "id": "03224ee7",
   "metadata": {},
   "outputs": [
    {
     "data": {
      "text/plain": [
       "<sqlite3.Cursor at 0x1c5bd2ddb40>"
      ]
     },
     "execution_count": 46,
     "metadata": {},
     "output_type": "execute_result"
    }
   ],
   "source": [
    "# Create neccessary tables\n",
    "# Ticker info table\n",
    "statement = \"\"\"\n",
    "    CREATE TABLE IF NOT EXISTS companies (\n",
    "        ticker TEXT PRIMARY KEY,\n",
    "        name TEXT NOT NULL,\n",
    "        sector INTEGER,\n",
    "        industry INTEGER,\n",
    "        description TEXT\n",
    "    )\n",
    "\"\"\"\n",
    "# If you want to override the table, use DROP TABLE first, then CREATE TABLE\n",
    "cursor.execute(statement)\n"
   ]
  },
  {
   "cell_type": "code",
   "execution_count": 47,
   "id": "0bb85133",
   "metadata": {},
   "outputs": [
    {
     "data": {
      "text/plain": [
       "<sqlite3.Cursor at 0x1c5bd2ddb40>"
      ]
     },
     "execution_count": 47,
     "metadata": {},
     "output_type": "execute_result"
    }
   ],
   "source": [
    "# Price info table\n",
    "statement = \"\"\"\n",
    "    CREATE TABLE IF NOT EXISTS price (\n",
    "    ticker TEXT,\n",
    "    date DATE,\n",
    "    open REAL,\n",
    "    high REAL,\n",
    "    low REAL,\n",
    "    close REAL,\n",
    "    adj_close REAL,\n",
    "    volume INTEGER,\n",
    "    PRIMARY KEY (ticker, date),\n",
    "    FOREIGN KEY (ticker) REFERENCES companies(ticker)\n",
    "    FOREIGN KEY (sector) REFERENCES sectors(sector_id),\n",
    "    FOREIGN KEY (industry) REFERENCES industries(industry_id)\n",
    ")\n",
    "\"\"\"\n",
    "cursor.execute(statement)"
   ]
  },
  {
   "cell_type": "code",
   "execution_count": 48,
   "id": "4436884c",
   "metadata": {},
   "outputs": [
    {
     "data": {
      "text/plain": [
       "<sqlite3.Cursor at 0x1c5bd2ddb40>"
      ]
     },
     "execution_count": 48,
     "metadata": {},
     "output_type": "execute_result"
    }
   ],
   "source": [
    "# Sector info table\n",
    "statement = \"\"\"\n",
    "    CREATE TABLE IF NOT EXISTS sectors (\n",
    "        sector_id INTEGER PRIMARY KEY AUTOINCREMENT,\n",
    "        sector TEXT,\n",
    "        description TEXT\n",
    "    )\n",
    "\"\"\"\n",
    "cursor.execute(statement)"
   ]
  },
  {
   "cell_type": "code",
   "execution_count": 49,
   "id": "19da3635",
   "metadata": {},
   "outputs": [
    {
     "data": {
      "text/plain": [
       "<sqlite3.Cursor at 0x1c5bd2ddb40>"
      ]
     },
     "execution_count": 49,
     "metadata": {},
     "output_type": "execute_result"
    }
   ],
   "source": [
    "# Industry info table\n",
    "statement = \"\"\"\n",
    "    CREATE TABLE IF NOT EXISTS industries (\n",
    "        industry_id INTEGER PRIMARY KEY AUTOINCREMENT,\n",
    "        sector INTEGER,\n",
    "        industry TEXT,\n",
    "        description TEXT,\n",
    "        FOREIGN KEY (sector) REFERENCES sectors(sector_id)\n",
    "    )\"\"\"\n",
    "cursor.execute(statement)"
   ]
  },
  {
   "cell_type": "code",
   "execution_count": null,
   "id": "2c10308c",
   "metadata": {},
   "outputs": [],
   "source": [
    "#Populate sectors and industries\n",
    "sector_data = [\n",
    "    (1, 'Energy', 'The energy sector covers companies that do business in the oil and natural gas industry.'),\n",
    "    (2, 'Materials', 'The materials sector includes companies that provide various goods for use in manufacturing and other applications.'),\n",
    "    (3, 'Industrials', 'The industrials sector encompasses a wide range of different businesses that generally involve the use of heavy equipment.'),\n",
    "    (4, 'Utilities', 'The utilities sector encompasses every different type of utility company.'),\n",
    "    (5, 'Health Care', 'The healthcare sector has two primary components: Pharmaceuticals, treatments based on biotechnology and healthcare equipment and services.'),\n",
    "    (6, 'Financials', 'The financials sector includes businesses that are primarily related to handling money. Banks are a key industry group within the sector.'),\n",
    "    (7, 'Consumer Discretionary', 'The consumer discretionary sector covers goods and services for which consumer demand depends upon consumer financial status.'),\n",
    "    (8, 'Consumer Staples', 'The consumer staples sector includes goods and services that consumers need, regardless of their current financial condition or the current economic climate.'),\n",
    "    (9, 'Information Technology', 'The information technology sector covers companies involved in the different categories of technological innovation.'),\n",
    "    (10, 'Communication Services', 'The communication services sector is among the newest of the GICS sectors and includes a couple of major areas that used to be part of other sectors, such as telocommunication, media and entertainment.'),\n",
    "    (11, 'Real Estate', 'The real estate sector is the newest GICS sector, having formerly been part of the financial sector. It generally includes two different types of investments related to real estate: Developement and REITs')\n",
    "]\n",
    "\n",
    "insert_sectors = \"\"\"\n",
    "INSERT INTO sectors (sector_id, sector, description) \n",
    "VALUES (?, ?, ?)\"\"\"\n",
    "\n",
    "cursor.executemany(insert_sectors, sector_data)"
   ]
  },
  {
   "cell_type": "code",
   "execution_count": 55,
   "id": "b3cb3430",
   "metadata": {},
   "outputs": [
    {
     "data": {
      "text/html": [
       "<div>\n",
       "<style scoped>\n",
       "    .dataframe tbody tr th:only-of-type {\n",
       "        vertical-align: middle;\n",
       "    }\n",
       "\n",
       "    .dataframe tbody tr th {\n",
       "        vertical-align: top;\n",
       "    }\n",
       "\n",
       "    .dataframe thead th {\n",
       "        text-align: right;\n",
       "    }\n",
       "</style>\n",
       "<table border=\"1\" class=\"dataframe\">\n",
       "  <thead>\n",
       "    <tr style=\"text-align: right;\">\n",
       "      <th></th>\n",
       "      <th>sector_id</th>\n",
       "      <th>sector</th>\n",
       "      <th>description</th>\n",
       "    </tr>\n",
       "  </thead>\n",
       "  <tbody>\n",
       "    <tr>\n",
       "      <th>0</th>\n",
       "      <td>1</td>\n",
       "      <td>Energy</td>\n",
       "      <td>The energy sector covers companies that do bus...</td>\n",
       "    </tr>\n",
       "    <tr>\n",
       "      <th>1</th>\n",
       "      <td>2</td>\n",
       "      <td>Materials</td>\n",
       "      <td>The materials sector includes companies that p...</td>\n",
       "    </tr>\n",
       "    <tr>\n",
       "      <th>2</th>\n",
       "      <td>3</td>\n",
       "      <td>Industrials</td>\n",
       "      <td>The industrials sector encompasses a wide rang...</td>\n",
       "    </tr>\n",
       "    <tr>\n",
       "      <th>3</th>\n",
       "      <td>4</td>\n",
       "      <td>Utilities</td>\n",
       "      <td>The utilities sector encompasses every differe...</td>\n",
       "    </tr>\n",
       "    <tr>\n",
       "      <th>4</th>\n",
       "      <td>5</td>\n",
       "      <td>Health Care</td>\n",
       "      <td>The healthcare sector has two primary componen...</td>\n",
       "    </tr>\n",
       "    <tr>\n",
       "      <th>5</th>\n",
       "      <td>6</td>\n",
       "      <td>Financials</td>\n",
       "      <td>The financials sector includes businesses that...</td>\n",
       "    </tr>\n",
       "    <tr>\n",
       "      <th>6</th>\n",
       "      <td>7</td>\n",
       "      <td>Consumer Discretionary</td>\n",
       "      <td>The consumer discretionary sector covers goods...</td>\n",
       "    </tr>\n",
       "    <tr>\n",
       "      <th>7</th>\n",
       "      <td>8</td>\n",
       "      <td>Consumer Staples</td>\n",
       "      <td>The consumer staples sector includes goods and...</td>\n",
       "    </tr>\n",
       "    <tr>\n",
       "      <th>8</th>\n",
       "      <td>9</td>\n",
       "      <td>Information Technology</td>\n",
       "      <td>The information technology sector covers compa...</td>\n",
       "    </tr>\n",
       "    <tr>\n",
       "      <th>9</th>\n",
       "      <td>10</td>\n",
       "      <td>Communication Services</td>\n",
       "      <td>The communication services sector is among the...</td>\n",
       "    </tr>\n",
       "    <tr>\n",
       "      <th>10</th>\n",
       "      <td>11</td>\n",
       "      <td>Real Estate</td>\n",
       "      <td>The real estate sector is the newest GICS sect...</td>\n",
       "    </tr>\n",
       "  </tbody>\n",
       "</table>\n",
       "</div>"
      ],
      "text/plain": [
       "    sector_id                  sector  \\\n",
       "0           1                  Energy   \n",
       "1           2               Materials   \n",
       "2           3             Industrials   \n",
       "3           4               Utilities   \n",
       "4           5             Health Care   \n",
       "5           6              Financials   \n",
       "6           7  Consumer Discretionary   \n",
       "7           8        Consumer Staples   \n",
       "8           9  Information Technology   \n",
       "9          10  Communication Services   \n",
       "10         11             Real Estate   \n",
       "\n",
       "                                          description  \n",
       "0   The energy sector covers companies that do bus...  \n",
       "1   The materials sector includes companies that p...  \n",
       "2   The industrials sector encompasses a wide rang...  \n",
       "3   The utilities sector encompasses every differe...  \n",
       "4   The healthcare sector has two primary componen...  \n",
       "5   The financials sector includes businesses that...  \n",
       "6   The consumer discretionary sector covers goods...  \n",
       "7   The consumer staples sector includes goods and...  \n",
       "8   The information technology sector covers compa...  \n",
       "9   The communication services sector is among the...  \n",
       "10  The real estate sector is the newest GICS sect...  "
      ]
     },
     "execution_count": 55,
     "metadata": {},
     "output_type": "execute_result"
    }
   ],
   "source": [
    "cursor.execute(\"SELECT * FROM sectors\")\n",
    "sectors = cursor.fetchall() \n",
    "sectors_df = pd.DataFrame(sectors, columns=['sector_id', 'sector', 'description'])\n",
    "sectors_df"
   ]
  },
  {
   "cell_type": "code",
   "execution_count": 52,
   "id": "e27bac8d",
   "metadata": {},
   "outputs": [],
   "source": [
    "# Commit changes and close the connection\n",
    "conn.commit()\n",
    "conn.close()"
   ]
  }
 ],
 "metadata": {
  "kernelspec": {
   "display_name": "Python 3",
   "language": "python",
   "name": "python3"
  },
  "language_info": {
   "codemirror_mode": {
    "name": "ipython",
    "version": 3
   },
   "file_extension": ".py",
   "mimetype": "text/x-python",
   "name": "python",
   "nbconvert_exporter": "python",
   "pygments_lexer": "ipython3",
   "version": "3.10.11"
  }
 },
 "nbformat": 4,
 "nbformat_minor": 5
}
