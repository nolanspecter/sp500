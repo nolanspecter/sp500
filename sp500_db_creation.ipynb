{
 "cells": [
  {
   "cell_type": "code",
   "execution_count": 1,
   "id": "03233311",
   "metadata": {},
   "outputs": [],
   "source": [
    "import sqlite3"
   ]
  },
  {
   "cell_type": "code",
   "execution_count": 2,
   "id": "79ce1eeb",
   "metadata": {},
   "outputs": [],
   "source": [
    "# Set up database\n",
    "conn = sqlite3.connect('sp500_stocks.db') # Create or connect to the db file\n",
    "cursor = conn.cursor() # Create a cursor to excute command"
   ]
  },
  {
   "cell_type": "code",
   "execution_count": 3,
   "id": "03224ee7",
   "metadata": {},
   "outputs": [
    {
     "data": {
      "text/plain": [
       "<sqlite3.Cursor at 0x1ad4c7cb340>"
      ]
     },
     "execution_count": 3,
     "metadata": {},
     "output_type": "execute_result"
    }
   ],
   "source": [
    "# Create neccessary tables\n",
    "# Ticker info table\n",
    "statement = \"\"\"\n",
    "    CREATE TABLE IF NOT EXISTS companies (\n",
    "        ticker TEXT PRIMARY KEY,\n",
    "        name TEXT NOT NULL,\n",
    "        sector INTEGER,\n",
    "        industry INTEGER,\n",
    "        market_cap REAL,\n",
    "        description TEXT,\n",
    "        FOREIGN KEY (sector) REFERENCES sectors(sector_id),\n",
    "        FOREIGN KEY (industry) REFERENCES industries(industry_id)\n",
    "    )\n",
    "\"\"\"\n",
    "# If you want to override the table, use DROP TABLE first, then CREATE TABLE\n",
    "cursor.execute(statement)\n"
   ]
  },
  {
   "cell_type": "code",
   "execution_count": null,
   "id": "0bb85133",
   "metadata": {},
   "outputs": [
    {
     "data": {
      "text/plain": [
       "<sqlite3.Cursor at 0x1ad4c7cb340>"
      ]
     },
     "execution_count": 4,
     "metadata": {},
     "output_type": "execute_result"
    }
   ],
   "source": [
    "# Price info table\n",
    "statement = \"\"\"\n",
    "    CREATE TABLE IF NOT EXISTS price (\n",
    "    ticker TEXT,\n",
    "    date DATE,\n",
    "    open REAL,\n",
    "    high REAL,\n",
    "    low REAL,\n",
    "    close REAL,\n",
    "    volume INTEGER,\n",
    "    PRIMARY KEY (ticker, date),\n",
    "    FOREIGN KEY (ticker) REFERENCES companies(ticker)\n",
    "\n",
    ")\n",
    "\"\"\"\n",
    "cursor.execute(statement)"
   ]
  },
  {
   "cell_type": "code",
   "execution_count": 5,
   "id": "4436884c",
   "metadata": {},
   "outputs": [
    {
     "data": {
      "text/plain": [
       "<sqlite3.Cursor at 0x1ad4c7cb340>"
      ]
     },
     "execution_count": 5,
     "metadata": {},
     "output_type": "execute_result"
    }
   ],
   "source": [
    "# Sector info table\n",
    "statement = \"\"\"\n",
    "    CREATE TABLE IF NOT EXISTS sectors (\n",
    "        sector_id INTEGER PRIMARY KEY,\n",
    "        sector TEXT\n",
    "    )\n",
    "\"\"\"\n",
    "cursor.execute(statement)"
   ]
  },
  {
   "cell_type": "code",
   "execution_count": 6,
   "id": "19da3635",
   "metadata": {},
   "outputs": [
    {
     "data": {
      "text/plain": [
       "<sqlite3.Cursor at 0x1ad4c7cb340>"
      ]
     },
     "execution_count": 6,
     "metadata": {},
     "output_type": "execute_result"
    }
   ],
   "source": [
    "# Industry info table\n",
    "statement = \"\"\"\n",
    "    CREATE TABLE IF NOT EXISTS industries (\n",
    "        sector_id INTEGER,\n",
    "        industry_id INTEGER PRIMARY KEY,\n",
    "        industry TEXT,\n",
    "        FOREIGN KEY (sector_id) REFERENCES sectors(sector_id)\n",
    "    )\"\"\"\n",
    "cursor.execute(statement)"
   ]
  },
  {
   "cell_type": "code",
   "execution_count": 3,
   "id": "516c9c5c",
   "metadata": {},
   "outputs": [
    {
     "data": {
      "text/plain": [
       "<sqlite3.Cursor at 0x1c0dd8ab1c0>"
      ]
     },
     "execution_count": 3,
     "metadata": {},
     "output_type": "execute_result"
    }
   ],
   "source": [
    "cursor.execute(\"DROP TABLE sub_industries\")"
   ]
  },
  {
   "cell_type": "code",
   "execution_count": 5,
   "id": "16daa6e2",
   "metadata": {},
   "outputs": [
    {
     "data": {
      "text/plain": [
       "<sqlite3.Cursor at 0x1c0dd8ab1c0>"
      ]
     },
     "execution_count": 5,
     "metadata": {},
     "output_type": "execute_result"
    }
   ],
   "source": [
    "# Sub-industry info table\n",
    "statement = \"\"\"\n",
    "    CREATE TABLE IF NOT EXISTS sub_industries (\n",
    "        industry_id INTEGER,\n",
    "        sub_industry_id INTEGER PRIMARY KEY,\n",
    "        sub_industry TEXT,\n",
    "        FOREIGN KEY (industry_id) REFERENCES industries(industry_id)\n",
    "    )\n",
    "\"\"\"\n",
    "cursor.execute(statement)"
   ]
  },
  {
   "cell_type": "code",
   "execution_count": 8,
   "id": "e27bac8d",
   "metadata": {},
   "outputs": [],
   "source": [
    "# Commit changes and close the connection\n",
    "conn.commit()\n",
    "conn.close()"
   ]
  },
  {
   "cell_type": "code",
   "execution_count": null,
   "id": "5190fd96",
   "metadata": {},
   "outputs": [],
   "source": []
  }
 ],
 "metadata": {
  "kernelspec": {
   "display_name": "Python 3",
   "language": "python",
   "name": "python3"
  },
  "language_info": {
   "codemirror_mode": {
    "name": "ipython",
    "version": 3
   },
   "file_extension": ".py",
   "mimetype": "text/x-python",
   "name": "python",
   "nbconvert_exporter": "python",
   "pygments_lexer": "ipython3",
   "version": "3.10.11"
  }
 },
 "nbformat": 4,
 "nbformat_minor": 5
}
