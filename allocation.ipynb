{
 "cells": [
  {
   "cell_type": "code",
   "execution_count": 5,
   "id": "624389c4",
   "metadata": {},
   "outputs": [],
   "source": [
    "import pandas as pd\n",
    "import numpy as np\n",
    "import sqlite3\n",
    "import matplotlib.pyplot as plt\n",
    "import yfinance as yf\n",
    "from scipy.optimize import minimize\n",
    "from pypfopt import expected_returns, risk_models, EfficientFrontier"
   ]
  },
  {
   "cell_type": "code",
   "execution_count": 6,
   "id": "c6805a9e",
   "metadata": {},
   "outputs": [],
   "source": [
    "tickers = ('AAPL', 'NVDA')"
   ]
  },
  {
   "cell_type": "code",
   "execution_count": 7,
   "id": "4923a7da",
   "metadata": {},
   "outputs": [
    {
     "data": {
      "text/html": [
       "<div>\n",
       "<style scoped>\n",
       "    .dataframe tbody tr th:only-of-type {\n",
       "        vertical-align: middle;\n",
       "    }\n",
       "\n",
       "    .dataframe tbody tr th {\n",
       "        vertical-align: top;\n",
       "    }\n",
       "\n",
       "    .dataframe thead th {\n",
       "        text-align: right;\n",
       "    }\n",
       "</style>\n",
       "<table border=\"1\" class=\"dataframe\">\n",
       "  <thead>\n",
       "    <tr style=\"text-align: right;\">\n",
       "      <th>ticker</th>\n",
       "      <th>AAPL</th>\n",
       "      <th>NVDA</th>\n",
       "    </tr>\n",
       "    <tr>\n",
       "      <th>date</th>\n",
       "      <th></th>\n",
       "      <th></th>\n",
       "    </tr>\n",
       "  </thead>\n",
       "  <tbody>\n",
       "    <tr>\n",
       "      <th>2025-01-02 00:00:00</th>\n",
       "      <td>243.263199</td>\n",
       "      <td>138.287674</td>\n",
       "    </tr>\n",
       "    <tr>\n",
       "      <th>2025-01-03 00:00:00</th>\n",
       "      <td>242.774368</td>\n",
       "      <td>144.446686</td>\n",
       "    </tr>\n",
       "    <tr>\n",
       "      <th>2025-01-06 00:00:00</th>\n",
       "      <td>244.410416</td>\n",
       "      <td>149.405869</td>\n",
       "    </tr>\n",
       "    <tr>\n",
       "      <th>2025-01-07 00:00:00</th>\n",
       "      <td>241.627136</td>\n",
       "      <td>140.117371</td>\n",
       "    </tr>\n",
       "    <tr>\n",
       "      <th>2025-01-08 00:00:00</th>\n",
       "      <td>242.115936</td>\n",
       "      <td>140.087387</td>\n",
       "    </tr>\n",
       "    <tr>\n",
       "      <th>...</th>\n",
       "      <td>...</td>\n",
       "      <td>...</td>\n",
       "    </tr>\n",
       "    <tr>\n",
       "      <th>2025-07-25 00:00:00</th>\n",
       "      <td>213.880005</td>\n",
       "      <td>173.500000</td>\n",
       "    </tr>\n",
       "    <tr>\n",
       "      <th>2025-07-28 00:00:00</th>\n",
       "      <td>214.050003</td>\n",
       "      <td>176.750000</td>\n",
       "    </tr>\n",
       "    <tr>\n",
       "      <th>2025-07-29 00:00:00</th>\n",
       "      <td>211.270004</td>\n",
       "      <td>175.509995</td>\n",
       "    </tr>\n",
       "    <tr>\n",
       "      <th>2025-07-30 00:00:00</th>\n",
       "      <td>209.050003</td>\n",
       "      <td>179.270004</td>\n",
       "    </tr>\n",
       "    <tr>\n",
       "      <th>2025-07-31 00:00:00</th>\n",
       "      <td>207.570007</td>\n",
       "      <td>177.869995</td>\n",
       "    </tr>\n",
       "  </tbody>\n",
       "</table>\n",
       "<p>144 rows × 2 columns</p>\n",
       "</div>"
      ],
      "text/plain": [
       "ticker                     AAPL        NVDA\n",
       "date                                       \n",
       "2025-01-02 00:00:00  243.263199  138.287674\n",
       "2025-01-03 00:00:00  242.774368  144.446686\n",
       "2025-01-06 00:00:00  244.410416  149.405869\n",
       "2025-01-07 00:00:00  241.627136  140.117371\n",
       "2025-01-08 00:00:00  242.115936  140.087387\n",
       "...                         ...         ...\n",
       "2025-07-25 00:00:00  213.880005  173.500000\n",
       "2025-07-28 00:00:00  214.050003  176.750000\n",
       "2025-07-29 00:00:00  211.270004  175.509995\n",
       "2025-07-30 00:00:00  209.050003  179.270004\n",
       "2025-07-31 00:00:00  207.570007  177.869995\n",
       "\n",
       "[144 rows x 2 columns]"
      ]
     },
     "execution_count": 7,
     "metadata": {},
     "output_type": "execute_result"
    }
   ],
   "source": [
    "conn = sqlite3.connect('sp500_stocks.db')\n",
    "cursor = conn.cursor()\n",
    "cursor.execute(f\"SELECT ticker, date, close FROM price WHERE ticker IN {tuple(tickers)} AND date BETWEEN '2025-01-01' AND '2025-08-01'\")\n",
    "data = cursor.fetchall()\n",
    "conn.close()\n",
    "df = pd.DataFrame(data, columns=['ticker', 'date', 'close'])\n",
    "df = df.pivot(index='date', columns='ticker', values='close').dropna()\n",
    "df"
   ]
  },
  {
   "cell_type": "code",
   "execution_count": 8,
   "id": "7a9a78f0",
   "metadata": {},
   "outputs": [
    {
     "data": {
      "text/html": [
       "<div>\n",
       "<style scoped>\n",
       "    .dataframe tbody tr th:only-of-type {\n",
       "        vertical-align: middle;\n",
       "    }\n",
       "\n",
       "    .dataframe tbody tr th {\n",
       "        vertical-align: top;\n",
       "    }\n",
       "\n",
       "    .dataframe thead th {\n",
       "        text-align: right;\n",
       "    }\n",
       "</style>\n",
       "<table border=\"1\" class=\"dataframe\">\n",
       "  <thead>\n",
       "    <tr style=\"text-align: right;\">\n",
       "      <th>ticker</th>\n",
       "      <th>AAPL</th>\n",
       "      <th>NVDA</th>\n",
       "    </tr>\n",
       "    <tr>\n",
       "      <th>date</th>\n",
       "      <th></th>\n",
       "      <th></th>\n",
       "    </tr>\n",
       "  </thead>\n",
       "  <tbody>\n",
       "    <tr>\n",
       "      <th>2025-01-03 00:00:00</th>\n",
       "      <td>-0.002009</td>\n",
       "      <td>0.044538</td>\n",
       "    </tr>\n",
       "    <tr>\n",
       "      <th>2025-01-06 00:00:00</th>\n",
       "      <td>0.006739</td>\n",
       "      <td>0.034332</td>\n",
       "    </tr>\n",
       "    <tr>\n",
       "      <th>2025-01-07 00:00:00</th>\n",
       "      <td>-0.011388</td>\n",
       "      <td>-0.062170</td>\n",
       "    </tr>\n",
       "    <tr>\n",
       "      <th>2025-01-08 00:00:00</th>\n",
       "      <td>0.002023</td>\n",
       "      <td>-0.000214</td>\n",
       "    </tr>\n",
       "    <tr>\n",
       "      <th>2025-01-10 00:00:00</th>\n",
       "      <td>-0.024104</td>\n",
       "      <td>-0.029976</td>\n",
       "    </tr>\n",
       "    <tr>\n",
       "      <th>...</th>\n",
       "      <td>...</td>\n",
       "      <td>...</td>\n",
       "    </tr>\n",
       "    <tr>\n",
       "      <th>2025-07-25 00:00:00</th>\n",
       "      <td>0.000561</td>\n",
       "      <td>-0.001381</td>\n",
       "    </tr>\n",
       "    <tr>\n",
       "      <th>2025-07-28 00:00:00</th>\n",
       "      <td>0.000795</td>\n",
       "      <td>0.018732</td>\n",
       "    </tr>\n",
       "    <tr>\n",
       "      <th>2025-07-29 00:00:00</th>\n",
       "      <td>-0.012988</td>\n",
       "      <td>-0.007016</td>\n",
       "    </tr>\n",
       "    <tr>\n",
       "      <th>2025-07-30 00:00:00</th>\n",
       "      <td>-0.010508</td>\n",
       "      <td>0.021423</td>\n",
       "    </tr>\n",
       "    <tr>\n",
       "      <th>2025-07-31 00:00:00</th>\n",
       "      <td>-0.007080</td>\n",
       "      <td>-0.007810</td>\n",
       "    </tr>\n",
       "  </tbody>\n",
       "</table>\n",
       "<p>143 rows × 2 columns</p>\n",
       "</div>"
      ],
      "text/plain": [
       "ticker                   AAPL      NVDA\n",
       "date                                   \n",
       "2025-01-03 00:00:00 -0.002009  0.044538\n",
       "2025-01-06 00:00:00  0.006739  0.034332\n",
       "2025-01-07 00:00:00 -0.011388 -0.062170\n",
       "2025-01-08 00:00:00  0.002023 -0.000214\n",
       "2025-01-10 00:00:00 -0.024104 -0.029976\n",
       "...                       ...       ...\n",
       "2025-07-25 00:00:00  0.000561 -0.001381\n",
       "2025-07-28 00:00:00  0.000795  0.018732\n",
       "2025-07-29 00:00:00 -0.012988 -0.007016\n",
       "2025-07-30 00:00:00 -0.010508  0.021423\n",
       "2025-07-31 00:00:00 -0.007080 -0.007810\n",
       "\n",
       "[143 rows x 2 columns]"
      ]
     },
     "execution_count": 8,
     "metadata": {},
     "output_type": "execute_result"
    }
   ],
   "source": [
    "returns = df.pct_change().dropna()\n",
    "returns"
   ]
  },
  {
   "cell_type": "code",
   "execution_count": 9,
   "id": "ccaa053b",
   "metadata": {},
   "outputs": [],
   "source": [
    "mu = expected_returns.mean_historical_return(df)\n",
    "S = risk_models.sample_cov(df)"
   ]
  },
  {
   "cell_type": "code",
   "execution_count": 14,
   "id": "e47ea0ee",
   "metadata": {},
   "outputs": [
    {
     "name": "stdout",
     "output_type": "stream",
     "text": [
      "Optimal Weights: OrderedDict([('AAPL', 0.0), ('NVDA', 1.0)])\n"
     ]
    }
   ],
   "source": [
    "ef = EfficientFrontier(mu, S)\n",
    "weights = ef.max_sharpe(risk_free_rate=0.04)\n",
    "cleaned_weights = ef.clean_weights()\n",
    "print(\"Optimal Weights:\", weights)"
   ]
  },
  {
   "cell_type": "code",
   "execution_count": 18,
   "id": "5b4426ae",
   "metadata": {},
   "outputs": [
    {
     "name": "stdout",
     "output_type": "stream",
     "text": [
      "0.0\n",
      "1.0\n"
     ]
    }
   ],
   "source": [
    "for key in cleaned_weights.keys():\n",
    "    print(cleaned_weights[key])"
   ]
  },
  {
   "cell_type": "code",
   "execution_count": 20,
   "id": "56451616",
   "metadata": {},
   "outputs": [
    {
     "data": {
      "text/plain": [
       "date\n",
       "2025-01-02 00:00:00            NaN\n",
       "2025-01-03 00:00:00    1044.537678\n",
       "2025-01-06 00:00:00    1080.399028\n",
       "2025-01-07 00:00:00    1013.231090\n",
       "2025-01-08 00:00:00    1013.014270\n",
       "                          ...     \n",
       "2025-07-25 00:00:00    1254.630981\n",
       "2025-07-28 00:00:00    1278.132714\n",
       "2025-07-29 00:00:00    1269.165859\n",
       "2025-07-30 00:00:00    1296.355627\n",
       "2025-07-31 00:00:00    1286.231737\n",
       "Name: Value, Length: 144, dtype: float64"
      ]
     },
     "execution_count": 20,
     "metadata": {},
     "output_type": "execute_result"
    }
   ],
   "source": [
    "df['Value'] = 0\n",
    "for ticker in weights.keys():\n",
    "    df['Value'] += (1 + df.loc[:,ticker].pct_change()).cumprod() * (1000 * weights[ticker])\n",
    "df['Value']"
   ]
  },
  {
   "cell_type": "code",
   "execution_count": 11,
   "id": "4af6ee1e",
   "metadata": {},
   "outputs": [
    {
     "name": "stdout",
     "output_type": "stream",
     "text": [
      "Expected annual return: 55.8%\n",
      "Annual volatility: 58.8%\n",
      "Sharpe Ratio: 0.86\n"
     ]
    },
    {
     "data": {
      "text/plain": [
       "(0.5582834571000714, 0.5883104509432074, 0.8639714903673172)"
      ]
     },
     "execution_count": 11,
     "metadata": {},
     "output_type": "execute_result"
    }
   ],
   "source": [
    "ef.portfolio_performance(verbose=True, risk_free_rate=0.05)"
   ]
  },
  {
   "cell_type": "code",
   "execution_count": null,
   "id": "5a7ce78f",
   "metadata": {},
   "outputs": [],
   "source": []
  }
 ],
 "metadata": {
  "kernelspec": {
   "display_name": "Python 3",
   "language": "python",
   "name": "python3"
  },
  "language_info": {
   "codemirror_mode": {
    "name": "ipython",
    "version": 3
   },
   "file_extension": ".py",
   "mimetype": "text/x-python",
   "name": "python",
   "nbconvert_exporter": "python",
   "pygments_lexer": "ipython3",
   "version": "3.10.11"
  }
 },
 "nbformat": 4,
 "nbformat_minor": 5
}
